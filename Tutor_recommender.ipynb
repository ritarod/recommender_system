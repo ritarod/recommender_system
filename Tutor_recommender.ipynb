{
 "cells": [
  {
   "cell_type": "code",
   "execution_count": 1,
   "metadata": {},
   "outputs": [
    {
     "name": "stderr",
     "output_type": "stream",
     "text": [
      "/Users/ritarodriguez/.pyenv/versions/3.8.2/lib/python3.8/site-packages/pandas/compat/__init__.py:117: UserWarning: Could not import the lzma module. Your installed Python is incomplete. Attempting to use lzma compression will result in a RuntimeError.\n",
      "  warnings.warn(msg)\n"
     ]
    }
   ],
   "source": [
    "import pandas as pd\n",
    "from scipy.sparse import csr_matrix"
   ]
  },
  {
   "cell_type": "code",
   "execution_count": 2,
   "metadata": {},
   "outputs": [
    {
     "name": "stdout",
     "output_type": "stream",
     "text": [
      "(9999, 3)\n"
     ]
    },
    {
     "data": {
      "text/html": [
       "<div>\n",
       "<style scoped>\n",
       "    .dataframe tbody tr th:only-of-type {\n",
       "        vertical-align: middle;\n",
       "    }\n",
       "\n",
       "    .dataframe tbody tr th {\n",
       "        vertical-align: top;\n",
       "    }\n",
       "\n",
       "    .dataframe thead th {\n",
       "        text-align: right;\n",
       "    }\n",
       "</style>\n",
       "<table border=\"1\" class=\"dataframe\">\n",
       "  <thead>\n",
       "    <tr style=\"text-align: right;\">\n",
       "      <th></th>\n",
       "      <th>id</th>\n",
       "      <th>user_id</th>\n",
       "      <th>tutor_id</th>\n",
       "    </tr>\n",
       "  </thead>\n",
       "  <tbody>\n",
       "    <tr>\n",
       "      <th>0</th>\n",
       "      <td>1</td>\n",
       "      <td>00000055a78bf6735c4a89358fab1de34104c3cb</td>\n",
       "      <td>e78de9dad70d230a096f0bbdc3e89b5cae04ba77</td>\n",
       "    </tr>\n",
       "    <tr>\n",
       "      <th>1</th>\n",
       "      <td>2</td>\n",
       "      <td>00000055a78bf6735c4a89358fab1de34104c3cb</td>\n",
       "      <td>b9a521730141de9bc4fe8ebc9f33713411d0101a</td>\n",
       "    </tr>\n",
       "    <tr>\n",
       "      <th>2</th>\n",
       "      <td>3</td>\n",
       "      <td>00000055a78bf6735c4a89358fab1de34104c3cb</td>\n",
       "      <td>8378136c6dd0e03be859a210a0cee03955951fb1</td>\n",
       "    </tr>\n",
       "    <tr>\n",
       "      <th>3</th>\n",
       "      <td>4</td>\n",
       "      <td>00000055a78bf6735c4a89358fab1de34104c3cb</td>\n",
       "      <td>9cc68d8345f675892bcab0fad02f65b4ac7e71ea</td>\n",
       "    </tr>\n",
       "    <tr>\n",
       "      <th>4</th>\n",
       "      <td>5</td>\n",
       "      <td>00000055a78bf6735c4a89358fab1de34104c3cb</td>\n",
       "      <td>a8272c62cd05d5b882e4f630fb55cfa0ba8491e6</td>\n",
       "    </tr>\n",
       "  </tbody>\n",
       "</table>\n",
       "</div>"
      ],
      "text/plain": [
       "   id                                   user_id  \\\n",
       "0   1  00000055a78bf6735c4a89358fab1de34104c3cb   \n",
       "1   2  00000055a78bf6735c4a89358fab1de34104c3cb   \n",
       "2   3  00000055a78bf6735c4a89358fab1de34104c3cb   \n",
       "3   4  00000055a78bf6735c4a89358fab1de34104c3cb   \n",
       "4   5  00000055a78bf6735c4a89358fab1de34104c3cb   \n",
       "\n",
       "                                   tutor_id  \n",
       "0  e78de9dad70d230a096f0bbdc3e89b5cae04ba77  \n",
       "1  b9a521730141de9bc4fe8ebc9f33713411d0101a  \n",
       "2  8378136c6dd0e03be859a210a0cee03955951fb1  \n",
       "3  9cc68d8345f675892bcab0fad02f65b4ac7e71ea  \n",
       "4  a8272c62cd05d5b882e4f630fb55cfa0ba8491e6  "
      ]
     },
     "execution_count": 2,
     "metadata": {},
     "output_type": "execute_result"
    }
   ],
   "source": [
    "data = pd.read_csv('Preply_tutor_views_datasaet.csv') \n",
    "print(data.shape)\n",
    "data.head()"
   ]
  },
  {
   "cell_type": "markdown",
   "metadata": {},
   "source": [
    "## Prepare data"
   ]
  },
  {
   "cell_type": "code",
   "execution_count": 3,
   "metadata": {},
   "outputs": [
    {
     "data": {
      "text/html": [
       "<div>\n",
       "<style scoped>\n",
       "    .dataframe tbody tr th:only-of-type {\n",
       "        vertical-align: middle;\n",
       "    }\n",
       "\n",
       "    .dataframe tbody tr th {\n",
       "        vertical-align: top;\n",
       "    }\n",
       "\n",
       "    .dataframe thead th {\n",
       "        text-align: right;\n",
       "    }\n",
       "</style>\n",
       "<table border=\"1\" class=\"dataframe\">\n",
       "  <thead>\n",
       "    <tr style=\"text-align: right;\">\n",
       "      <th></th>\n",
       "      <th>user_id</th>\n",
       "      <th>tutor_id</th>\n",
       "      <th>counts</th>\n",
       "    </tr>\n",
       "  </thead>\n",
       "  <tbody>\n",
       "    <tr>\n",
       "      <th>0</th>\n",
       "      <td>00000055a78bf6735c4a89358fab1de34104c3cb</td>\n",
       "      <td>5c61cd1b82ec7a4d2918a6de99fcd1577b462f79</td>\n",
       "      <td>1</td>\n",
       "    </tr>\n",
       "    <tr>\n",
       "      <th>1</th>\n",
       "      <td>00000055a78bf6735c4a89358fab1de34104c3cb</td>\n",
       "      <td>8378136c6dd0e03be859a210a0cee03955951fb1</td>\n",
       "      <td>1</td>\n",
       "    </tr>\n",
       "    <tr>\n",
       "      <th>2</th>\n",
       "      <td>00000055a78bf6735c4a89358fab1de34104c3cb</td>\n",
       "      <td>9cc68d8345f675892bcab0fad02f65b4ac7e71ea</td>\n",
       "      <td>1</td>\n",
       "    </tr>\n",
       "    <tr>\n",
       "      <th>3</th>\n",
       "      <td>00000055a78bf6735c4a89358fab1de34104c3cb</td>\n",
       "      <td>a1437d6393ee9535248b16f27a649bbd98c9e2f5</td>\n",
       "      <td>1</td>\n",
       "    </tr>\n",
       "    <tr>\n",
       "      <th>4</th>\n",
       "      <td>00000055a78bf6735c4a89358fab1de34104c3cb</td>\n",
       "      <td>a8272c62cd05d5b882e4f630fb55cfa0ba8491e6</td>\n",
       "      <td>1</td>\n",
       "    </tr>\n",
       "  </tbody>\n",
       "</table>\n",
       "</div>"
      ],
      "text/plain": [
       "                                    user_id  \\\n",
       "0  00000055a78bf6735c4a89358fab1de34104c3cb   \n",
       "1  00000055a78bf6735c4a89358fab1de34104c3cb   \n",
       "2  00000055a78bf6735c4a89358fab1de34104c3cb   \n",
       "3  00000055a78bf6735c4a89358fab1de34104c3cb   \n",
       "4  00000055a78bf6735c4a89358fab1de34104c3cb   \n",
       "\n",
       "                                   tutor_id  counts  \n",
       "0  5c61cd1b82ec7a4d2918a6de99fcd1577b462f79       1  \n",
       "1  8378136c6dd0e03be859a210a0cee03955951fb1       1  \n",
       "2  9cc68d8345f675892bcab0fad02f65b4ac7e71ea       1  \n",
       "3  a1437d6393ee9535248b16f27a649bbd98c9e2f5       1  \n",
       "4  a8272c62cd05d5b882e4f630fb55cfa0ba8491e6       1  "
      ]
     },
     "execution_count": 3,
     "metadata": {},
     "output_type": "execute_result"
    }
   ],
   "source": [
    "data_grouped = data.groupby(['user_id', 'tutor_id']).size().reset_index(name='counts')\n",
    "data_grouped.head()"
   ]
  },
  {
   "cell_type": "code",
   "execution_count": 4,
   "metadata": {},
   "outputs": [],
   "source": [
    "# pivot data_grouped into tutor features\n",
    "df_tutor_features = data_grouped.pivot(index='tutor_id', columns='user_id',\n",
    "                                       values='counts').fillna(0)\n",
    "\n",
    "mat_tutor_features = csr_matrix(df_tutor_features.values)"
   ]
  },
  {
   "cell_type": "code",
   "execution_count": 5,
   "metadata": {},
   "outputs": [],
   "source": [
    "# mapper \n",
    "df_tutors = data[['tutor_id']].drop_duplicates()\n",
    "df_tutors['title'] = data['tutor_id']\n",
    "tutors_to_idx = {\n",
    "    tutor: i for i, tutor in \n",
    "    enumerate(list(df_tutors.set_index('tutor_id').loc[df_tutor_features.index].title))\n",
    "}"
   ]
  },
  {
   "cell_type": "markdown",
   "metadata": {},
   "source": [
    "## Model KNN"
   ]
  },
  {
   "cell_type": "code",
   "execution_count": 6,
   "metadata": {},
   "outputs": [
    {
     "data": {
      "text/plain": [
       "NearestNeighbors(algorithm='brute', metric='cosine', n_jobs=-1, n_neighbors=10)"
      ]
     },
     "execution_count": 6,
     "metadata": {},
     "output_type": "execute_result"
    }
   ],
   "source": [
    "from sklearn.neighbors import NearestNeighbors\n",
    "model_knn = NearestNeighbors(metric='cosine', algorithm='brute', n_neighbors=10, n_jobs=-1)\n",
    "\n",
    "# fit model\n",
    "model_knn.fit(mat_tutor_features)"
   ]
  },
  {
   "cell_type": "code",
   "execution_count": 7,
   "metadata": {},
   "outputs": [],
   "source": [
    "def make_recommendation(model_knn, data, mapper, my_tutor, n_recommendations):\n",
    "    \"\"\"\n",
    "    return top n similar tutor recommendations based on user's input movie\n",
    "    Parameters\n",
    "    ----------\n",
    "    model_knn: sklearn model, knn model\n",
    "    data: tutor-user matrix\n",
    "    mapper: dict, map tutor ID to index in data\n",
    "    my_tutor: str, ID of input tutor\n",
    "    n_recommendations: int, top n recommendations\n",
    "    Return\n",
    "    ------\n",
    "    list of top n similar tutor recommendations\n",
    "    \"\"\"\n",
    "    # fit\n",
    "    model_knn.fit(data)\n",
    "    # get input tutor ID index\n",
    "    print('You have input tutor:', my_tutor)\n",
    "    idx = mapper[ my_tutor ]\n",
    "    \n",
    "    print('Recommendation system start to make inference')\n",
    "    print('......\\n')\n",
    "    distances, indices = model_knn.kneighbors(data[idx], n_neighbors=n_recommendations+1)\n",
    "   \n",
    "    raw_recommends = sorted(list(zip(indices.squeeze().tolist(), distances.squeeze().tolist())), key=lambda x: x[1])[:0:-1]\n",
    "    # get reverse mapper\n",
    "    reverse_mapper = {v: k for k, v in mapper.items()}\n",
    "    # print recommendations\n",
    "    print('Recommendations for {}:'.format( my_tutor ))\n",
    "    for i, (idx, dist) in enumerate(raw_recommends):\n",
    "        print('{0}: {1}, with distance of {2}'.format(i+1, reverse_mapper[idx], dist))"
   ]
  },
  {
   "cell_type": "code",
   "execution_count": 8,
   "metadata": {},
   "outputs": [
    {
     "name": "stdout",
     "output_type": "stream",
     "text": [
      "You have input tutor: ff0d3fb21c00bc33f71187a2beec389e9eff5332\n",
      "Recommendation system start to make inference\n",
      "......\n",
      "\n",
      "Recommendations for ff0d3fb21c00bc33f71187a2beec389e9eff5332:\n",
      "1: 0cbb51f1f43646c1718553da0c5864d4e1a6f037, with distance of 0.6348516283298892\n",
      "2: 551ec41539d9fb71200d18ec7903b1039cde594f, with distance of 0.6186149643017631\n",
      "3: dd3c8fd58366b577ce6b1d0f435602f11671c3dc, with distance of 0.6\n",
      "4: 85ef93bda0f7fb6327bd1b5ad44da26246b4360d, with distance of 0.5917517095361371\n",
      "5: 61bc35a6401829bd28a8da47a2f235944ba8d2df, with distance of 0.5774228726357417\n",
      "6: c093b1743115b3f9d368b2f7bdf54f367afccc7c, with distance of 0.5774228726357417\n",
      "7: 340f1eaf7ad0c07f1491338ab68cbcab30c315ec, with distance of 0.3675444679663241\n",
      "8: bdf147e99ee57500eb2dabcbf3cfa24e1daef357, with distance of 0.36099034957730614\n",
      "9: 6b0cd6a8094daf42e766ea257a2af3571831bb32, with distance of 0.30973151003736654\n",
      "10: 7ee223009403f7450993fe5d79516f1fc841e75e, with distance of 0.21064778262367367\n"
     ]
    }
   ],
   "source": [
    "my_tutor = 'ff0d3fb21c00bc33f71187a2beec389e9eff5332'\n",
    "\n",
    "make_recommendation(\n",
    "    model_knn=model_knn,\n",
    "    data=mat_tutor_features,\n",
    "    mapper=tutors_to_idx,\n",
    "    my_tutor=my_tutor,\n",
    "    n_recommendations=10)"
   ]
  }
 ],
 "metadata": {
  "kernelspec": {
   "display_name": "Python 3",
   "language": "python",
   "name": "python3"
  },
  "language_info": {
   "codemirror_mode": {
    "name": "ipython",
    "version": 3
   },
   "file_extension": ".py",
   "mimetype": "text/x-python",
   "name": "python",
   "nbconvert_exporter": "python",
   "pygments_lexer": "ipython3",
   "version": "3.8.2"
  }
 },
 "nbformat": 4,
 "nbformat_minor": 4
}
